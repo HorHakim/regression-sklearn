{
 "cells": [
  {
   "cell_type": "code",
   "execution_count": 1,
   "id": "b255ecb5-38ba-4f46-b514-025e849cfcf6",
   "metadata": {},
   "outputs": [],
   "source": [
    "import pandas"
   ]
  },
  {
   "cell_type": "code",
   "execution_count": 7,
   "id": "ef8b2fb6-58da-4e9e-89be-f282aac05f40",
   "metadata": {},
   "outputs": [],
   "source": [
    "dataset_df = pandas.read_csv(\"energy_use_in_the_UK.csv\", sep=\";\")"
   ]
  },
  {
   "cell_type": "code",
   "execution_count": 9,
   "id": "cbbc8529-cc3f-4cab-aedb-a46e2fe80b9b",
   "metadata": {},
   "outputs": [
    {
     "data": {
      "text/html": [
       "<div>\n",
       "<style scoped>\n",
       "    .dataframe tbody tr th:only-of-type {\n",
       "        vertical-align: middle;\n",
       "    }\n",
       "\n",
       "    .dataframe tbody tr th {\n",
       "        vertical-align: top;\n",
       "    }\n",
       "\n",
       "    .dataframe thead th {\n",
       "        text-align: right;\n",
       "    }\n",
       "</style>\n",
       "<table border=\"1\" class=\"dataframe\">\n",
       "  <thead>\n",
       "    <tr style=\"text-align: right;\">\n",
       "      <th></th>\n",
       "      <th>timestamp</th>\n",
       "      <th>coal</th>\n",
       "      <th>nuclear</th>\n",
       "      <th>wind</th>\n",
       "      <th>hydro</th>\n",
       "      <th>solar</th>\n",
       "    </tr>\n",
       "  </thead>\n",
       "  <tbody>\n",
       "    <tr>\n",
       "      <th>0</th>\n",
       "      <td>2012-01-01 00:00:01</td>\n",
       "      <td>8693</td>\n",
       "      <td>7121</td>\n",
       "      <td>2740</td>\n",
       "      <td>728</td>\n",
       "      <td>0.0</td>\n",
       "    </tr>\n",
       "    <tr>\n",
       "      <th>1</th>\n",
       "      <td>2012-01-01 00:05:06</td>\n",
       "      <td>8650</td>\n",
       "      <td>7120</td>\n",
       "      <td>2812</td>\n",
       "      <td>732</td>\n",
       "      <td>0.0</td>\n",
       "    </tr>\n",
       "    <tr>\n",
       "      <th>2</th>\n",
       "      <td>2012-01-01 00:10:01</td>\n",
       "      <td>8880</td>\n",
       "      <td>7125</td>\n",
       "      <td>2896</td>\n",
       "      <td>744</td>\n",
       "      <td>0.0</td>\n",
       "    </tr>\n",
       "    <tr>\n",
       "      <th>3</th>\n",
       "      <td>2012-01-01 00:15:01</td>\n",
       "      <td>9111</td>\n",
       "      <td>7122</td>\n",
       "      <td>2964</td>\n",
       "      <td>748</td>\n",
       "      <td>0.0</td>\n",
       "    </tr>\n",
       "    <tr>\n",
       "      <th>4</th>\n",
       "      <td>2012-01-01 00:20:01</td>\n",
       "      <td>9195</td>\n",
       "      <td>7114</td>\n",
       "      <td>2992</td>\n",
       "      <td>750</td>\n",
       "      <td>0.0</td>\n",
       "    </tr>\n",
       "  </tbody>\n",
       "</table>\n",
       "</div>"
      ],
      "text/plain": [
       "              timestamp  coal  nuclear  wind  hydro  solar\n",
       "0   2012-01-01 00:00:01  8693     7121  2740    728    0.0\n",
       "1   2012-01-01 00:05:06  8650     7120  2812    732    0.0\n",
       "2   2012-01-01 00:10:01  8880     7125  2896    744    0.0\n",
       "3   2012-01-01 00:15:01  9111     7122  2964    748    0.0\n",
       "4   2012-01-01 00:20:01  9195     7114  2992    750    0.0"
      ]
     },
     "execution_count": 9,
     "metadata": {},
     "output_type": "execute_result"
    }
   ],
   "source": [
    "dataset_df.head()"
   ]
  },
  {
   "cell_type": "code",
   "execution_count": null,
   "id": "0035e917-ed92-4e3b-9cf0-74d196cec0b1",
   "metadata": {},
   "outputs": [],
   "source": []
  }
 ],
 "metadata": {
  "kernelspec": {
   "display_name": "Python 3 (ipykernel)",
   "language": "python",
   "name": "python3"
  },
  "language_info": {
   "codemirror_mode": {
    "name": "ipython",
    "version": 3
   },
   "file_extension": ".py",
   "mimetype": "text/x-python",
   "name": "python",
   "nbconvert_exporter": "python",
   "pygments_lexer": "ipython3",
   "version": "3.11.7"
  }
 },
 "nbformat": 4,
 "nbformat_minor": 5
}
